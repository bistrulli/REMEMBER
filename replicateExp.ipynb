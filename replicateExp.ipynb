{
 "cells": [
  {
   "cell_type": "markdown",
   "id": "f8683d3a",
   "metadata": {},
   "source": [
    "### Setup and Import Section ###"
   ]
  },
  {
   "cell_type": "code",
   "execution_count": 1,
   "id": "3d81db59-0453-4397-b66f-e6c2f7e344f9",
   "metadata": {},
   "outputs": [],
   "source": [
    "# replicateExp.ipynb\n",
    "import os\n",
    "\n",
    "# --- Setup Section ---\n",
    "# This part of the code takes care of preparing the environment, both on Colab and locally.\n",
    "\n",
    "# Check if we are on Google Colab\n",
    "# Colab sets some specific environment variables\n",
    "IS_COLAB = 'google.colab' in str(get_ipython()) if 'ipython' in globals() else False\n",
    "\n",
    "if IS_COLAB:\n",
    "    print(\"Running on Google Colab. Setting up environment...\")\n",
    "    # Name of your GitHub repository\n",
    "    repo_name = \"il_tuo_repo\" # You might want to update this to your actual repo name\n",
    "    repo_url = f\"https://github.com/il_tuo_utente/{repo_name}.git\" # And this with your username/repo\n",
    "\n",
    "    # Clone the repository if it doesn't already exist\n",
    "    if not os.path.exists(repo_name):\n",
    "        !git clone {repo_url}\n",
    "        print(f\"Repository '{repo_name}' cloned.\")\n",
    "    else:\n",
    "        print(f\"Repository '{repo_name}' already exists. Skipping clone.\")\n",
    "\n",
    "    # Change to the repository directory\n",
    "    os.chdir(repo_name)\n",
    "    print(f\"Changed directory to: {os.getcwd()}\")\n",
    "\n",
    "# --- End Setup Section ---\n",
    "\n",
    "from vlmcProcessMining import *\n",
    "import numpy as np\n",
    "import argparse\n",
    "import os\n",
    "import subprocess\n",
    "import sys\n",
    "import json\n",
    "import re\n",
    "from scipy.io import savemat\n",
    "from pathlib import Path\n",
    "import pandas as pd\n",
    "from sklearn.model_selection import train_test_split\n",
    "import pathlib\n",
    "import shutil\n",
    "import tqdm\n",
    "import time\n",
    "import glob\n",
    "\n",
    "import warnings\n",
    "import xml.parsers.expat\n",
    "import warnings\n",
    "from pm4py.objects.log.importer.xes import importer as xes_importer\n",
    "import pm4py\n",
    "from pm4py.objects.log.importer.xes import importer as xes_importer\n",
    "from pm4py.objects.log.exporter.xes import exporter as xes_exporter\n",
    "from pm4py.objects.petri_net.obj import PetriNet, Marking\n",
    "from pm4py.objects.petri_net.importer import importer as pnml_importer\n",
    "from pm4py.algo.simulation.playout.petri_net import algorithm as simulator\n",
    "from pm4py.statistics.variants.log import get as variants_module\n",
    "from pm4py.objects.conversion.log import converter as log_converter\n",
    "from pm4py.objects.log.util import dataframe_utils\n",
    "import gzip\n",
    "import tempfile\n",
    "import atexit\n",
    "\n",
    "import matplotlib.pyplot as plt\n",
    "from scipy import stats\n",
    "\n",
    "\n",
    "noisydir=Path(os.getcwd())/\"data\"/\"noisy_data\"\n",
    "ldir=Path(os.getcwd())/pathlib.Path(\"likelyhood\")\n",
    "dataDir=Path(\"./data/sldpn-reproducibility/experiments/\")\n",
    "trainLogDir=dataDir/Path(\"2-splitlogs\")\n",
    "testLogDir=dataDir/Path(\"2-splitlogstest\")\n",
    "meausreDir=dataDir/Path(\"4-measures\")\n",
    "discoveredStochModel=dataDir/Path(\"3-discoveredstochasticmodels\")\n",
    "enjoySilentDir=Path(os.getcwd())/\"data\"/\"enjoythesilent\"\n",
    "\n",
    "lognames=['bpic12-a','BPI_Challenge_2013_incidents',\n",
    "          'BPI_Challenge_2013_open_problems','BPI_Challenge_2013_closed_problems',\n",
    "          'BPI Challenge 2017 - Offer log','bpic2020-DomesticDeclarations',\n",
    "          'bpic2020-InternationalDeclarations','bpic2020-PrepaidTravelCost',\n",
    "          'bpic2020-RequestForPayment','Sepsis',\n",
    "          'Road_Traffic_Fine_Management_Process']\n",
    "\n",
    "def getVLMCName(inputFile):\n",
    "    vlmcName=None\n",
    "    inputFile=Path(inputFile)\n",
    "    if inputFile.suffix == '.gz':\n",
    "        vlmcName='.'.join(inputFile.stem.split('.')[0:-1])\n",
    "    else:\n",
    "        vlmcName=inputFile.stem\n",
    "    return vlmcName\n",
    "    "
   ]
  },
  {
   "cell_type": "markdown",
   "id": "73e3160a-2914-4299-a04f-270a5351132a",
   "metadata": {},
   "source": [
    "### Mine The VLMC From an Event Log ###"
   ]
  },
  {
   "cell_type": "code",
   "execution_count": 2,
   "id": "c4c5bc5a-c669-42ba-9e36-e39a17805ed9",
   "metadata": {},
   "outputs": [],
   "source": [
    "def createVLMC(inputFile):\n",
    "    readInputFile(inputFile)\n",
    "    vlmcName=getVLMCName(inputFile)\n",
    "    st=time.time()\n",
    "    mineProcess(ecfFile=f\"{os.getcwd()}/data/VLMC/{vlmcName}.ecf\",\n",
    "    infile=f\"{os.getcwd()}/data/converted/{vlmcName}.txt\",\n",
    "    vlmcfile=f\"{os.getcwd()}/data/VLMC/{vlmcName}.vlmc\", \n",
    "    nsim=\"1\", ntime=\"1\", alfa=\"1\")\n",
    "    vlmcTime=time.time()-st\n",
    "    print(f\"VLMC Mined In {vlmcTime}\")\n",
    "    return vlmcTime"
   ]
  },
  {
   "cell_type": "markdown",
   "id": "f062313f-da93-4b8e-be65-13ea20e2bbb2",
   "metadata": {},
   "source": [
    "### Compute Likelihood With VLMC ###"
   ]
  },
  {
   "cell_type": "code",
   "execution_count": 3,
   "id": "06e5a97e-6747-485e-83f3-095e17793421",
   "metadata": {},
   "outputs": [],
   "source": [
    "def getVLMCLikelyhood(vlmcName=None,traceFile=None):\n",
    "    st=time.time()\n",
    "    ecfFile=pathlib.Path(f\"{os.getcwd()}/data/VLMC/{vlmcName}.ecf\").absolute()\n",
    "    infile=pathlib.Path(f\"{os.getcwd()}/data/converted/{vlmcName}.txt\").absolute()\n",
    "    vlmcfile=pathlib.Path(f\"{os.getcwd()}/data/VLMC/{vlmcName}2.vlmc\").absolute()\n",
    "    vlmc=pathlib.Path(f\"{os.getcwd()}/data/VLMC/{vlmcName}.vlmc\").absolute()\n",
    "    \n",
    "    cwd=(ldir/pathlib.Path(traceFile.name.split(\".\")[0]))\n",
    "    cwd.mkdir(parents=True, exist_ok=True)\n",
    "\n",
    "    getLikelyhood(\n",
    "        ecfFile=str(ecfFile),\n",
    "        infile=str(infile), #dataset used to learn the vlmc\n",
    "        vlmc=str(vlmc), #input VLMC to use\n",
    "        vlmcfile=str(vlmcfile),  #output VLMC\n",
    "        traces=str(traceFile), #traces to compute likelyhood\n",
    "        cwd=str(cwd),\n",
    "        outFile=\"out.mat\",nsim=\"1\", ntime=\"1\",alfa=\"1\")\n",
    "    liktime=time.time()-st\n",
    "    return liktime"
   ]
  },
  {
   "cell_type": "markdown",
   "id": "c60c516b-a2d7-4646-834a-55a92dfbf641",
   "metadata": {},
   "source": [
    "### Preprocess Test Data ###"
   ]
  },
  {
   "cell_type": "code",
   "execution_count": 4,
   "id": "e488f40e-37ac-4372-beef-ae6ad2d2ad84",
   "metadata": {},
   "outputs": [],
   "source": [
    "def prepareTestDate(inputTrace=None):\n",
    "    datasetName=inputTrace.name\n",
    "    testsetName=f\"{'.'.join(datasetName.split('.')[0:-2])}_test.{'.'.join(datasetName.split('.')[-2:])}\"\n",
    "    testTraceFile=testLogDir/Path(testsetName)\n",
    "    if(not testTraceFile.is_file()):\n",
    "        (testLogDir/Path(datasetName)).rename(testTraceFile)\n",
    "    return testTraceFile"
   ]
  },
  {
   "cell_type": "markdown",
   "id": "20c580bd-4fd7-45de-b619-a494ffe5dd92",
   "metadata": {},
   "source": [
    "### Compute uEMSC With VLMC Likelihood ###"
   ]
  },
  {
   "cell_type": "code",
   "execution_count": 5,
   "id": "08f63371-2fc7-437d-9f2a-100fe0d92027",
   "metadata": {},
   "outputs": [],
   "source": [
    "def uEMSCVLMC(inputLan=None,vlmcName=None):\n",
    "    st=time.time()\n",
    "    cwd=(ldir/pathlib.Path(inputLan.name.split(\".\")[0]))\n",
    "    cwd.mkdir(parents=True, exist_ok=True)\n",
    "    \n",
    "    traceLikName=\".\".join(inputLan.name.split(\".\")[0:-1])+\".lik\"\n",
    "    traceLikFile=cwd/pathlib.Path(traceLikName)\n",
    "    \n",
    "    modelLikName=vlmcName+\".vlmc.lik\"\n",
    "    modelLikFile=cwd/pathlib.Path(modelLikName)\n",
    "    \n",
    "    uEMSC=computeMuEMSC(traceLik=traceLikFile,modelLik=modelLikFile)\n",
    "    emsctime=time.time()-st\n",
    "    return uEMSC,emsctime"
   ]
  },
  {
   "cell_type": "code",
   "execution_count": 6,
   "id": "b5be5430-9d07-41f2-9a9d-d0b65c046ae8",
   "metadata": {},
   "outputs": [],
   "source": [
    "def reproduceVLMVExp():\n",
    "    matching_logs = list(trainLogDir.rglob(\"*.xes.gz[0-9].xes.gz\"))\n",
    "    #Loop over the logs\n",
    "    for log in matching_logs:\n",
    "        #if(\"Hospital\" in str(log) or \"testlogdata\" in str(log) or \"test log\" in str(log)):\n",
    "        #    continue\n",
    "        if(Path(log).name.split('.')[0] not in lognames):\n",
    "            print(f\"skipped {Path(log).name}\")\n",
    "            continue\n",
    "        #create Model from Log\n",
    "        #inputTrace=trainLogDir/Path(\"SERVICES.csv1.xes.gz0.xes.gz\")\n",
    "        inputTrace=log\n",
    "        mctime=createVLMC(inputFile=inputTrace)\n",
    "        \n",
    "        #Process Test Trace\n",
    "        testTrace=prepareTestDate(inputTrace=inputTrace)\n",
    "        readInputFile(inputFile=testTrace)\n",
    "        \n",
    "        #Compute TestLanguage LikelyHood\n",
    "        vlmcName=\".\".join(inputTrace.name.split(\".\")[0:-2])\n",
    "        traceLan=ldir/Path(inputTrace.name.split(\".\")[0])/Path(f\"{vlmcName}_trace.lan\")\n",
    "        testLan=ldir/Path(inputTrace.name.split(\".\")[0])/Path(f\"{vlmcName}_test_trace.lan\")\n",
    "        liktime=getVLMCLikelyhood(vlmcName=vlmcName,traceFile=testLan)\n",
    "        \n",
    "        #Compute uEMSC\n",
    "        uEMSC,uemsctime=uEMSCVLMC(inputLan=testLan,vlmcName=vlmcName)\n",
    "    \n",
    "        uEMSCFile=ldir/Path(inputTrace.name.split(\".\")[0])/Path(f\"{vlmcName}.uemsc\")\n",
    "        uEMSCTimeFile=ldir/Path(inputTrace.name.split(\".\")[0])/Path(f\"{vlmcName}.time\")\n",
    "        np.savetxt(str(uEMSCFile),[uEMSC])\n",
    "        np.savetxt(str(uEMSCTimeFile),[mctime,liktime,uemsctime])\n"
   ]
  },
  {
   "cell_type": "code",
   "execution_count": 20,
   "id": "0d5c164c-e4f8-4d9e-99b8-20664009dad5",
   "metadata": {},
   "outputs": [],
   "source": [
    "def reproduceNoisyExp(train_log=\"/Users/emilio-imt/Desktop/sima-andrea/second_submission/data/sldpn-reproducibility/experiments/2-splitlogs/Road_Traffic_Fine_Management_Process.xes.gz0.xes.gz\",\n",
    "                      noisy_pattern=\"Road_Traffic_Fine_Management_Process.xes.gz0/Road_Traffic_Fine_Management_Process.xes.gz0_noisy_{n}.0pct.xes.gz\"):\n",
    "\n",
    "    train_log=Path(train_log)\n",
    "    \n",
    "    noisy_logs = [noisydir / noisy_pattern.format(n=n) for n in [5,10,15,20,25,30,35,40]]\n",
    "    \n",
    "    #create Model from Log\n",
    "    mctime=createVLMC(inputFile=train_log)\n",
    "    \n",
    "    #Get VLMC NAME\n",
    "    vlmcName=\".\".join(train_log.name.split(\".\")[0:-2])\n",
    "    traceLan=ldir/Path(train_log.name.split(\".\")[0])/Path(f\"{'.'.join(train_log.name.split('.')[0:-2])}_trace.lan\")\n",
    "\n",
    "    uEMSCnoisy=[]\n",
    "\n",
    "    for noisy_log in noisy_logs:\n",
    "\n",
    "        #Process Noisy Trace\n",
    "        readInputFile(inputFile=noisy_log)\n",
    "        noisyLan=ldir/Path(train_log.name.split(\".\")[0])/Path(f\"{'.'.join(noisy_log.name.split('.')[0:-2])}_trace.lan\")\n",
    "        \n",
    "        liktime=getVLMCLikelyhood(vlmcName=vlmcName,traceFile=noisyLan)\n",
    "        uEMSC,uemsctime=uEMSCVLMC(inputLan=noisyLan,vlmcName=vlmcName)\n",
    "\n",
    "        uEMSCnoisy+=[[noisyLan,uEMSC]]\n",
    "\n",
    "    return pd.DataFrame(uEMSCnoisy)"
   ]
  },
  {
   "cell_type": "code",
   "execution_count": 31,
   "id": "a5974dd5-0a9a-4302-a7dd-76ff8dde76c4",
   "metadata": {},
   "outputs": [],
   "source": [
    "def noisyres_to_latex_table(df):\n",
    "    # Estrai %Noise usando regex\n",
    "    df = df.copy()\n",
    "    df.columns = ['path', 'uEMSC']  # Rinomina per chiarezza\n",
    "    \n",
    "    df['%Noise'] = df['path'].apply(lambda x: re.search(r'(\\d+).0pct', str(x)).group(1) if re.search(r'(\\d+).0pct', str(x)) else '')\n",
    "    df['uEMSC'] = df['uEMSC'].round(3)\n",
    "\n",
    "    # Seleziona e ordina le colonne\n",
    "    latex_df = df[['%Noise', 'uEMSC']]\n",
    "\n",
    "    # Converto in LaTeX ben formattato\n",
    "    latex_table = latex_df.to_latex(index=False, column_format=\"cc\", header=[\"\\\\%Noise\", \"uEMSC\"], float_format=\"%.3f\")\n",
    "\n",
    "    return latex_table\n"
   ]
  },
  {
   "cell_type": "markdown",
   "id": "ba0e27e2-84a2-4b25-a87b-9feeb4945289",
   "metadata": {},
   "source": [
    "### Collect The Results Of The Data-Aware Paper###"
   ]
  },
  {
   "cell_type": "code",
   "execution_count": 7,
   "id": "83b1a1c5-dbdd-44eb-9c9f-c30631d88753",
   "metadata": {},
   "outputs": [],
   "source": [
    "def collectDAwareResults():\n",
    "    #get all uemc results\n",
    "    matching_files = list(meausreDir.rglob(\"*-uemsc.txt\"))\n",
    "    matching_files2= list(meausreDir.rglob(\"*-duemsc.txt\"))\n",
    "    \n",
    "    for mf in matching_files:\n",
    "        for mf2 in matching_files2:\n",
    "            if(str(mf).replace(mf.name.split(\"-\")[-1],\"duemsc.txt\")==str(mf2)):\n",
    "                matching_files2.remove(mf2)\n",
    "\n",
    "    results=[]\n",
    "    # Print the results\n",
    "    for file in (matching_files+matching_files2):\n",
    "        filePath=Path(file)\n",
    "        Logname=filePath.parent.name.split(\".\")[0]\n",
    "        distech=filePath.parent.name.split(\"-\")[-1]\n",
    "        splitIdx=int(filePath.name.split(\"-\")[1])\n",
    "        stochdistech=filePath.name.split(\"-\")[0]\n",
    "        if(\"Hospital\" in str(Logname) or \"testlogdata\" in str(Logname) or \"test log\" in str(Logname) or \"TRANSFERS\" in str(Logname)):\n",
    "            continue\n",
    "        try:\n",
    "            zemsc=pd.read_csv(filePath,names=[\"uemsc\",\"type\"],header=None,delimiter=\" \")\n",
    "            zemsc=zemsc[\"uemsc\"].values[0]\n",
    "        except Exception as e:\n",
    "            print(Logname)\n",
    "        results+=[[Logname,splitIdx,distech,stochdistech,zemsc]]\n",
    "\n",
    "    df=pd.DataFrame(results,columns=[\"logname\",\"split\",\"dis-tech\",\"stoch-tech\",\"zemsc\"])\n",
    "    df = df[df[\"stoch-tech\"] != \"dsd2Ohe\"]\n",
    "    df = df[df[\"stoch-tech\"] != \"dsd2\"]\n",
    "\n",
    "\n",
    "    df.replace({\"stoch-tech\": {\"dsd\": \"DSDwe\", \"dsdOhe\": \"DSD\",\"alig\":\"ABE\",\"freq\":\"FBE\",\"uni\":\"BUC\"}}, inplace=True)\n",
    "        \n",
    "    return df"
   ]
  },
  {
   "cell_type": "code",
   "execution_count": 8,
   "id": "a15b9cde-7896-4fcb-9187-4dff1e12505f",
   "metadata": {},
   "outputs": [],
   "source": [
    "def collectVLMCRes():\n",
    "    matching_files = list(ldir.rglob(\"*.uemsc\"))\n",
    "    results=[]\n",
    "    # Print the results\n",
    "    for file in matching_files:\n",
    "        filePath=Path(file)\n",
    "        Logname=filePath.name.split(\".\")[0]\n",
    "        splitIdx=int(re.findall(r'gz(\\d+)\\.uemsc',filePath.name)[0])\n",
    "        uemsc=np.loadtxt(filePath)\n",
    "        #print(Logname,splitIdx,uemsc)\n",
    "        results+=[[Logname,splitIdx,uemsc]]\n",
    "    return pd.DataFrame(results,columns=[\"logname\",\"split\",\"uemsc\"])"
   ]
  },
  {
   "cell_type": "code",
   "execution_count": 9,
   "id": "5b7350a5-0ba0-442b-9c0e-1fee0e7fd5a6",
   "metadata": {},
   "outputs": [],
   "source": [
    "def collectVLMCTime():\n",
    "    matching_files = list(ldir.rglob(\"*.time\"))\n",
    "    results=[]\n",
    "    # Print the results\n",
    "    for file in matching_files:\n",
    "        filePath=Path(file)\n",
    "        Logname=filePath.name.split(\".\")[0]\n",
    "        splitIdx=int(re.findall(r'gz(\\d+)\\.time',filePath.name)[0])\n",
    "        time=np.loadtxt(filePath)\n",
    "        #print(Logname,splitIdx,uemsc)\n",
    "        results+=[[Logname,splitIdx,time[0],time[1],time[2]]]\n",
    "    return pd.DataFrame(results,columns=[\"logname\",\"split\",\"mctime\",\"liktime\",\"uemsctime\"])"
   ]
  },
  {
   "cell_type": "code",
   "execution_count": 10,
   "id": "c8c3722a-fc90-46dd-8dcc-66c49454e1a6",
   "metadata": {},
   "outputs": [],
   "source": [
    "def getBestPMTech(baselineRes):\n",
    "    btech=[]\n",
    "    for l in baselineRes[\"logname\"].unique():\n",
    "        #Per ogni tecnica stocastica recupera la migliore tecnica deterministrica\n",
    "        for stech in baselineRes[\"stoch-tech\"].unique():\n",
    "            b=-100\n",
    "            bt=None\n",
    "            for dtech in baselineRes[\"dis-tech\"].unique():    \n",
    "                try:\n",
    "                    value=baselineRes[(baselineRes[\"stoch-tech\"]==stech) & (baselineRes[\"dis-tech\"]==dtech) & (baselineRes[\"logname\"]==l)][\"zemsc\"].mean()\n",
    "                except Exception as e:\n",
    "                    print(e,[l,dtech,stech])\n",
    "                    print(baselineRes[(baselineRes[\"stoch-tech\"]==stech) & (baselineRes[\"dis-tech\"]==dtech) & (baselineRes[\"logname\"]==l)][\"zemsc\"])\n",
    "                    raise\n",
    "                if(value>b):\n",
    "                    b=value\n",
    "                    bt=f\"{l}${dtech}${stech}\"\n",
    "            if(bt is None):\n",
    "                #print(f\"no data for {l} and {stech}\")\n",
    "                btech+=[f\"{l}${dtech}${stech}\"]\n",
    "            else:\n",
    "                btech+=[bt]\n",
    "    return pd.DataFrame([t.split(\"$\") for t in btech],columns=[\"logname\",\"dtech\",\"stech\"])"
   ]
  },
  {
   "cell_type": "code",
   "execution_count": 11,
   "id": "791779f2-47c0-4ca2-a3ec-65a117bc0a98",
   "metadata": {},
   "outputs": [],
   "source": [
    "def collectEnjoyTheSilenceRes():\n",
    "    # Specify the value to find and the value to replace it with\n",
    "    search_values = ['BPIC12-a','BPIC13-i', 'BPIC13-op','BPIC13-cp',\n",
    "                     'BPIC17-o','BPIC20-dd','BPIC20-id'\n",
    "                    'BPIC20-pt','BPIC20-rf','Sepsis','Roadfines']\n",
    "    replacement_values = ['bpic12-a','BPI_Challenge_2013_incidents','BPI_Challenge_2013_open_problems',\n",
    "                          'BPI_Challenge_2013_closed_problems','BPI Challenge 2017 - Offer log','bpic2020-DomesticDeclarations',\n",
    "          'bpic2020-InternationalDeclarations','bpic2020-PrepaidTravelCost',\n",
    "          'bpic2020-RequestForPayment','Sepsis','Road_Traffic_Fine_Management_Process']\n",
    "    data=pd.read_csv(enjoySilentDir/\"enjoysilent.csv\")\n",
    "    #replacement_dict = dict(zip(search_values, replacement_values))\n",
    "    #data = data.replace(replacement_dict,regex=True)\n",
    "    data=data.rename(columns={\"Log\": \"logname\", \"Discovery\": \"dis-tech\", \"sto.dis.\": \"stoch-tech\",\"uEMSC\":\"zemsc\"})\n",
    "\n",
    "    split_values = list(range(10))\n",
    "    data_expanded = data.loc[data.index.repeat(len(split_values))].copy()\n",
    "    data_expanded['split'] = split_values * len(data)\n",
    "    data_expanded[\"zemsc\"].replace(to_replace=r\"[–—-]\", value=\"0\", regex=True, inplace=True)\n",
    "    #data_expanded[\"zemsc\"].replace(to_replace=r\"[–—-]\", value=\"0\", regex=True, inplace=True)\n",
    "    \n",
    "    return data_expanded"
   ]
  },
  {
   "cell_type": "markdown",
   "id": "7c2d1368-2fe6-485f-a12c-999dab1c3551",
   "metadata": {},
   "source": [
    "### Reproduce All Paper Results ###"
   ]
  },
  {
   "cell_type": "code",
   "execution_count": null,
   "id": "52bbcd88-c7b7-425b-b81c-6fd5dcea0be8",
   "metadata": {},
   "outputs": [],
   "source": [
    "reproduceVLMVExp()"
   ]
  },
  {
   "cell_type": "code",
   "execution_count": null,
   "id": "0c95504e-3def-4734-905e-1d9e602afc42",
   "metadata": {},
   "outputs": [],
   "source": [
    "baselineRes=collectDAwareResults()\n",
    "vlmcRes=collectVLMCRes()\n",
    "vlmcTime=collectVLMCTime()\n",
    "enjoydata=collectEnjoyTheSilenceRes()\n",
    "enjoydata[\"zemsc\"]=enjoydata[\"zemsc\"].astype(float)\n",
    "baselineRes=pd.concat([baselineRes, enjoydata[baselineRes.columns]], ignore_index=True)\n",
    "btech=getBestPMTech(baselineRes)"
   ]
  },
  {
   "cell_type": "code",
   "execution_count": null,
   "id": "8a906156-1b5e-43bb-8cd7-8a17b00ecc12",
   "metadata": {},
   "outputs": [],
   "source": [
    "mean_mctime=vlmcTime.groupby('logname')['mctime'].mean().reset_index()\n",
    "mean_uemsctime=vlmcTime.groupby('logname')['uemsctime'].mean().reset_index()\n",
    "#mean_mctime[\"uemsctime\"]=mean_uemsctime\n",
    "times=[]\n",
    "for l in lognames:\n",
    "    times+=[[mean_mctime[mean_mctime[\"logname\"]==l][\"mctime\"].iloc[0],\n",
    "            mean_uemsctime[mean_uemsctime[\"logname\"]==l][\"uemsctime\"].iloc[0]]]\n",
    "\n",
    "timeDF=pd.DataFrame(np.array(times),columns=[\"mctime\",\"uemsctime\"])"
   ]
  },
  {
   "cell_type": "markdown",
   "id": "82de9b54-e6b3-45b1-8f53-bebdfbaebd85",
   "metadata": {},
   "source": [
    "### Reproduce Papers Plots ###"
   ]
  },
  {
   "cell_type": "code",
   "execution_count": null,
   "id": "aca35036-25ae-4706-b411-0073f42f94f5",
   "metadata": {},
   "outputs": [],
   "source": [
    "#lognames=baselineRes[\"logname\"].unique()\n",
    "plt.rcParams.update({'font.size': 18})\n",
    "# Create a figure\n",
    "medianprops = dict(linestyle=None, linewidth=0, color='firebrick')\n",
    "meanprops = dict(linestyle=\"-\", linewidth=1.5, color='orange')\n",
    "\n",
    "#fig, ax = plt.subplots(len(lognames),1, figsize=(9, 30))  # 1 row, 2 columns of subplots\n",
    "for i,lname in enumerate(lognames):\n",
    "    #bestMethod=baselineRes[baselineRes['logname']==lname].groupby(by=['dis-tech', 'stoch-tech'])['zemsc'].mean().idxmax()\n",
    "    bestMethods=btech[(btech[\"logname\"]==lname)]\n",
    "    x=[]\n",
    "    names=[]\n",
    "    for bm in bestMethods.to_numpy():\n",
    "        names+=[f\"{bm[1]}_{bm[2]}\"]\n",
    "        values=baselineRes[(baselineRes[\"dis-tech\"]==bm[1]) & (baselineRes[\"stoch-tech\"]==bm[2]) & (baselineRes[\"logname\"]==bm[0])][\"zemsc\"].values\n",
    "        x+=[values.tolist()]\n",
    "\n",
    "    x+=[vlmcRes[vlmcRes[\"logname\"]==lname][\"uemsc\"].values]\n",
    "    names+=[\"VLMC\"]\n",
    "\n",
    "    for nidx in range(len(names)-1):\n",
    "        ks=stats.ks_2samp(x[nidx], x[-1])\n",
    "        if(ks.pvalue<0.05 or len(x[nidx])==0 ):\n",
    "            #names[nidx]+=\"-r\"\n",
    "            pass\n",
    "            \n",
    "    fig=plt.figure(figsize=(10, 4))\n",
    "    plt.boxplot(x,tick_labels=names,showmeans=True,meanline=True,medianprops=medianprops,meanprops=meanprops)\n",
    "    plt.ylabel(\"uEMSC\")\n",
    "    plt.grid()\n",
    "    plt.xticks(rotation=30)\n",
    "    plt.savefig(f'./plots/{lname}.pdf',bbox_inches='tight', pad_inches=0)  "
   ]
  },
  {
   "cell_type": "markdown",
   "id": "7bdd0c7c-3b5d-46c9-9858-5c5cd91b3bec",
   "metadata": {},
   "source": [
    "### Reproduce Noisy Experiments ###"
   ]
  },
  {
   "cell_type": "code",
   "execution_count": 25,
   "id": "08c33dff-24cc-41e0-8dec-6e14d15c3c32",
   "metadata": {},
   "outputs": [
    {
     "name": "stdout",
     "output_type": "stream",
     "text": [
      "/Users/emilio-imt/Desktop/sima-andrea/second_submission/data/sldpn-reproducibility/experiments/2-splitlogs/Road_Traffic_Fine_Management_Process.xes.gz0.xes.gz\n",
      ".gz file extracted to: /var/folders/th/tzthw0195kn8qkczx48fv6440000gn/T/tmpcpqy6h5e/Road_Traffic_Fine_Management_Process.xes.gz0.xes\n"
     ]
    },
    {
     "data": {
      "application/vnd.jupyter.widget-view+json": {
       "model_id": "55d007c6e66e414a9caaabb0ecdf125e",
       "version_major": 2,
       "version_minor": 0
      },
      "text/plain": [
       "parsing log, completed traces ::   0%|          | 0/75123 [00:00<?, ?it/s]"
      ]
     },
     "metadata": {},
     "output_type": "display_data"
    },
    {
     "name": "stderr",
     "output_type": "stream",
     "text": [
      "100%|████████████████████████████████████████████████████████████████████████████████████████████████████████| 75123/75123 [00:02<00:00, 35635.14it/s]\n"
     ]
    },
    {
     "name": "stdout",
     "output_type": "stream",
     "text": [
      "Number of cases:75123\n",
      "convert trace data/converted/Road_Traffic_Fine_Management_Process.xes.gz0.txt /Users/emilio-imt/Desktop/sima-andrea/second_submission/data/VLMC/Road_Traffic_Fine_Management_Process.xes.gz0.ecf\n",
      "\n",
      "JAR File Path: scripts/jfitVlmc.jar\n",
      "VLMC Mined In 13.642143964767456\n",
      "/Users/emilio-imt/Desktop/sima-andrea/second_submission/data/noisy_data/Road_Traffic_Fine_Management_Process.xes.gz0/Road_Traffic_Fine_Management_Process.xes.gz0_noisy_rem_5.0pct.xes.gz\n",
      ".gz file extracted to: /var/folders/th/tzthw0195kn8qkczx48fv6440000gn/T/tmpekdlyc94/Road_Traffic_Fine_Management_Process.xes.gz0_noisy_rem_5.0pct.xes\n"
     ]
    },
    {
     "data": {
      "application/vnd.jupyter.widget-view+json": {
       "model_id": "300a58c78c6640e4a9e8002eb48f4562",
       "version_major": 2,
       "version_minor": 0
      },
      "text/plain": [
       "parsing log, completed traces ::   0%|          | 0/75123 [00:00<?, ?it/s]"
      ]
     },
     "metadata": {},
     "output_type": "display_data"
    },
    {
     "name": "stderr",
     "output_type": "stream",
     "text": [
      "100%|████████████████████████████████████████████████████████████████████████████████████████████████████████| 75123/75123 [00:02<00:00, 33371.83it/s]\n"
     ]
    },
    {
     "name": "stdout",
     "output_type": "stream",
     "text": [
      "Number of cases:75123\n",
      "convert trace data/converted/Road_Traffic_Fine_Management_Process.xes.gz0_noisy_rem_5.0pct.txt /Users/emilio-imt/Desktop/sima-andrea/second_submission/data/VLMC/Road_Traffic_Fine_Management_Process.xes.gz0_noisy_rem_5.0pct.ecf\n",
      "Output: /Users/emilio-imt/Desktop/sima-andrea/second_submission/data/VLMC/Road_Traffic_Fine_Management_Process.xes.gz0.ecf\n",
      "0.0\n",
      "Order:=12\n",
      "VLMC total nodes 652\n",
      "VLMC simulation time 6ms\n",
      "saving traces\n",
      "out.mat\n",
      "\n",
      "/Users/emilio-imt/Desktop/sima-andrea/second_submission/data/noisy_data/Road_Traffic_Fine_Management_Process.xes.gz0/Road_Traffic_Fine_Management_Process.xes.gz0_noisy_rem_10.0pct.xes.gz\n",
      ".gz file extracted to: /var/folders/th/tzthw0195kn8qkczx48fv6440000gn/T/tmpo5z3_u4g/Road_Traffic_Fine_Management_Process.xes.gz0_noisy_rem_10.0pct.xes\n"
     ]
    },
    {
     "data": {
      "application/vnd.jupyter.widget-view+json": {
       "model_id": "47e939877574477e9b4291540410120e",
       "version_major": 2,
       "version_minor": 0
      },
      "text/plain": [
       "parsing log, completed traces ::   0%|          | 0/75123 [00:00<?, ?it/s]"
      ]
     },
     "metadata": {},
     "output_type": "display_data"
    },
    {
     "name": "stderr",
     "output_type": "stream",
     "text": [
      "100%|████████████████████████████████████████████████████████████████████████████████████████████████████████| 75123/75123 [00:02<00:00, 36533.34it/s]\n"
     ]
    },
    {
     "name": "stdout",
     "output_type": "stream",
     "text": [
      "Number of cases:75123\n",
      "convert trace data/converted/Road_Traffic_Fine_Management_Process.xes.gz0_noisy_rem_10.0pct.txt /Users/emilio-imt/Desktop/sima-andrea/second_submission/data/VLMC/Road_Traffic_Fine_Management_Process.xes.gz0_noisy_rem_10.0pct.ecf\n",
      "Output: /Users/emilio-imt/Desktop/sima-andrea/second_submission/data/VLMC/Road_Traffic_Fine_Management_Process.xes.gz0.ecf\n",
      "0.0\n",
      "Order:=12\n",
      "VLMC total nodes 652\n",
      "VLMC simulation time 6ms\n",
      "saving traces\n",
      "out.mat\n",
      "\n",
      "/Users/emilio-imt/Desktop/sima-andrea/second_submission/data/noisy_data/Road_Traffic_Fine_Management_Process.xes.gz0/Road_Traffic_Fine_Management_Process.xes.gz0_noisy_rem_15.0pct.xes.gz\n",
      ".gz file extracted to: /var/folders/th/tzthw0195kn8qkczx48fv6440000gn/T/tmpll9y8923/Road_Traffic_Fine_Management_Process.xes.gz0_noisy_rem_15.0pct.xes\n"
     ]
    },
    {
     "data": {
      "application/vnd.jupyter.widget-view+json": {
       "model_id": "3fb1698838904fdcb25e01f900ce0518",
       "version_major": 2,
       "version_minor": 0
      },
      "text/plain": [
       "parsing log, completed traces ::   0%|          | 0/75123 [00:00<?, ?it/s]"
      ]
     },
     "metadata": {},
     "output_type": "display_data"
    },
    {
     "name": "stderr",
     "output_type": "stream",
     "text": [
      "100%|████████████████████████████████████████████████████████████████████████████████████████████████████████| 75123/75123 [00:02<00:00, 36421.66it/s]\n"
     ]
    },
    {
     "name": "stdout",
     "output_type": "stream",
     "text": [
      "Number of cases:75123\n",
      "convert trace data/converted/Road_Traffic_Fine_Management_Process.xes.gz0_noisy_rem_15.0pct.txt /Users/emilio-imt/Desktop/sima-andrea/second_submission/data/VLMC/Road_Traffic_Fine_Management_Process.xes.gz0_noisy_rem_15.0pct.ecf\n",
      "Output: /Users/emilio-imt/Desktop/sima-andrea/second_submission/data/VLMC/Road_Traffic_Fine_Management_Process.xes.gz0.ecf\n",
      "0.0\n",
      "Order:=12\n",
      "VLMC total nodes 652\n",
      "VLMC simulation time 8ms\n",
      "saving traces\n",
      "out.mat\n",
      "\n",
      "/Users/emilio-imt/Desktop/sima-andrea/second_submission/data/noisy_data/Road_Traffic_Fine_Management_Process.xes.gz0/Road_Traffic_Fine_Management_Process.xes.gz0_noisy_rem_20.0pct.xes.gz\n",
      ".gz file extracted to: /var/folders/th/tzthw0195kn8qkczx48fv6440000gn/T/tmpxc9tkaq7/Road_Traffic_Fine_Management_Process.xes.gz0_noisy_rem_20.0pct.xes\n"
     ]
    },
    {
     "data": {
      "application/vnd.jupyter.widget-view+json": {
       "model_id": "308e22b7ab7b44d28142a6a78fcddfb7",
       "version_major": 2,
       "version_minor": 0
      },
      "text/plain": [
       "parsing log, completed traces ::   0%|          | 0/75123 [00:00<?, ?it/s]"
      ]
     },
     "metadata": {},
     "output_type": "display_data"
    },
    {
     "name": "stderr",
     "output_type": "stream",
     "text": [
      "100%|████████████████████████████████████████████████████████████████████████████████████████████████████████| 75123/75123 [00:02<00:00, 35287.16it/s]\n"
     ]
    },
    {
     "name": "stdout",
     "output_type": "stream",
     "text": [
      "Number of cases:75123\n",
      "convert trace data/converted/Road_Traffic_Fine_Management_Process.xes.gz0_noisy_rem_20.0pct.txt /Users/emilio-imt/Desktop/sima-andrea/second_submission/data/VLMC/Road_Traffic_Fine_Management_Process.xes.gz0_noisy_rem_20.0pct.ecf\n",
      "Output: /Users/emilio-imt/Desktop/sima-andrea/second_submission/data/VLMC/Road_Traffic_Fine_Management_Process.xes.gz0.ecf\n",
      "0.0\n",
      "Order:=12\n",
      "VLMC total nodes 652\n",
      "VLMC simulation time 6ms\n",
      "saving traces\n",
      "out.mat\n",
      "\n",
      "/Users/emilio-imt/Desktop/sima-andrea/second_submission/data/noisy_data/Road_Traffic_Fine_Management_Process.xes.gz0/Road_Traffic_Fine_Management_Process.xes.gz0_noisy_rem_25.0pct.xes.gz\n",
      ".gz file extracted to: /var/folders/th/tzthw0195kn8qkczx48fv6440000gn/T/tmp3r8fs5ku/Road_Traffic_Fine_Management_Process.xes.gz0_noisy_rem_25.0pct.xes\n"
     ]
    },
    {
     "data": {
      "application/vnd.jupyter.widget-view+json": {
       "model_id": "acaba8b2d7e547f393d928777676c3b6",
       "version_major": 2,
       "version_minor": 0
      },
      "text/plain": [
       "parsing log, completed traces ::   0%|          | 0/75123 [00:00<?, ?it/s]"
      ]
     },
     "metadata": {},
     "output_type": "display_data"
    },
    {
     "name": "stderr",
     "output_type": "stream",
     "text": [
      "100%|████████████████████████████████████████████████████████████████████████████████████████████████████████| 75123/75123 [00:02<00:00, 32456.35it/s]\n"
     ]
    },
    {
     "name": "stdout",
     "output_type": "stream",
     "text": [
      "Number of cases:75123\n",
      "convert trace data/converted/Road_Traffic_Fine_Management_Process.xes.gz0_noisy_rem_25.0pct.txt /Users/emilio-imt/Desktop/sima-andrea/second_submission/data/VLMC/Road_Traffic_Fine_Management_Process.xes.gz0_noisy_rem_25.0pct.ecf\n",
      "Output: /Users/emilio-imt/Desktop/sima-andrea/second_submission/data/VLMC/Road_Traffic_Fine_Management_Process.xes.gz0.ecf\n",
      "0.0\n",
      "Order:=12\n",
      "VLMC total nodes 652\n",
      "VLMC simulation time 6ms\n",
      "saving traces\n",
      "out.mat\n",
      "\n",
      "/Users/emilio-imt/Desktop/sima-andrea/second_submission/data/noisy_data/Road_Traffic_Fine_Management_Process.xes.gz0/Road_Traffic_Fine_Management_Process.xes.gz0_noisy_rem_30.0pct.xes.gz\n",
      ".gz file extracted to: /var/folders/th/tzthw0195kn8qkczx48fv6440000gn/T/tmptd77udg0/Road_Traffic_Fine_Management_Process.xes.gz0_noisy_rem_30.0pct.xes\n"
     ]
    },
    {
     "data": {
      "application/vnd.jupyter.widget-view+json": {
       "model_id": "70e05e8b3d3a4f70aa3a64d68815ecef",
       "version_major": 2,
       "version_minor": 0
      },
      "text/plain": [
       "parsing log, completed traces ::   0%|          | 0/75123 [00:00<?, ?it/s]"
      ]
     },
     "metadata": {},
     "output_type": "display_data"
    },
    {
     "name": "stderr",
     "output_type": "stream",
     "text": [
      "100%|████████████████████████████████████████████████████████████████████████████████████████████████████████| 75123/75123 [00:02<00:00, 34574.84it/s]\n"
     ]
    },
    {
     "name": "stdout",
     "output_type": "stream",
     "text": [
      "Number of cases:75123\n",
      "convert trace data/converted/Road_Traffic_Fine_Management_Process.xes.gz0_noisy_rem_30.0pct.txt /Users/emilio-imt/Desktop/sima-andrea/second_submission/data/VLMC/Road_Traffic_Fine_Management_Process.xes.gz0_noisy_rem_30.0pct.ecf\n",
      "Output: /Users/emilio-imt/Desktop/sima-andrea/second_submission/data/VLMC/Road_Traffic_Fine_Management_Process.xes.gz0.ecf\n",
      "0.0\n",
      "Order:=12\n",
      "VLMC total nodes 652\n",
      "VLMC simulation time 6ms\n",
      "saving traces\n",
      "out.mat\n",
      "\n",
      "/Users/emilio-imt/Desktop/sima-andrea/second_submission/data/noisy_data/Road_Traffic_Fine_Management_Process.xes.gz0/Road_Traffic_Fine_Management_Process.xes.gz0_noisy_rem_35.0pct.xes.gz\n",
      ".gz file extracted to: /var/folders/th/tzthw0195kn8qkczx48fv6440000gn/T/tmpe_28of0z/Road_Traffic_Fine_Management_Process.xes.gz0_noisy_rem_35.0pct.xes\n"
     ]
    },
    {
     "data": {
      "application/vnd.jupyter.widget-view+json": {
       "model_id": "054c386f2f7947dba3d1ac05a8b6b2cf",
       "version_major": 2,
       "version_minor": 0
      },
      "text/plain": [
       "parsing log, completed traces ::   0%|          | 0/75123 [00:00<?, ?it/s]"
      ]
     },
     "metadata": {},
     "output_type": "display_data"
    },
    {
     "name": "stderr",
     "output_type": "stream",
     "text": [
      "100%|████████████████████████████████████████████████████████████████████████████████████████████████████████| 75123/75123 [00:02<00:00, 34762.86it/s]\n"
     ]
    },
    {
     "name": "stdout",
     "output_type": "stream",
     "text": [
      "Number of cases:75123\n",
      "convert trace data/converted/Road_Traffic_Fine_Management_Process.xes.gz0_noisy_rem_35.0pct.txt /Users/emilio-imt/Desktop/sima-andrea/second_submission/data/VLMC/Road_Traffic_Fine_Management_Process.xes.gz0_noisy_rem_35.0pct.ecf\n",
      "Output: /Users/emilio-imt/Desktop/sima-andrea/second_submission/data/VLMC/Road_Traffic_Fine_Management_Process.xes.gz0.ecf\n",
      "0.0\n",
      "Order:=12\n",
      "VLMC total nodes 652\n",
      "VLMC simulation time 8ms\n",
      "saving traces\n",
      "out.mat\n",
      "\n",
      "/Users/emilio-imt/Desktop/sima-andrea/second_submission/data/noisy_data/Road_Traffic_Fine_Management_Process.xes.gz0/Road_Traffic_Fine_Management_Process.xes.gz0_noisy_rem_40.0pct.xes.gz\n",
      ".gz file extracted to: /var/folders/th/tzthw0195kn8qkczx48fv6440000gn/T/tmpqft_oki8/Road_Traffic_Fine_Management_Process.xes.gz0_noisy_rem_40.0pct.xes\n"
     ]
    },
    {
     "data": {
      "application/vnd.jupyter.widget-view+json": {
       "model_id": "eb2d1b44dc6f45998f88956374851957",
       "version_major": 2,
       "version_minor": 0
      },
      "text/plain": [
       "parsing log, completed traces ::   0%|          | 0/75123 [00:00<?, ?it/s]"
      ]
     },
     "metadata": {},
     "output_type": "display_data"
    },
    {
     "name": "stderr",
     "output_type": "stream",
     "text": [
      "100%|████████████████████████████████████████████████████████████████████████████████████████████████████████| 75123/75123 [00:02<00:00, 33467.67it/s]\n"
     ]
    },
    {
     "name": "stdout",
     "output_type": "stream",
     "text": [
      "Number of cases:75123\n",
      "convert trace data/converted/Road_Traffic_Fine_Management_Process.xes.gz0_noisy_rem_40.0pct.txt /Users/emilio-imt/Desktop/sima-andrea/second_submission/data/VLMC/Road_Traffic_Fine_Management_Process.xes.gz0_noisy_rem_40.0pct.ecf\n",
      "Output: /Users/emilio-imt/Desktop/sima-andrea/second_submission/data/VLMC/Road_Traffic_Fine_Management_Process.xes.gz0.ecf\n",
      "0.0\n",
      "Order:=12\n",
      "VLMC total nodes 652\n",
      "VLMC simulation time 6ms\n",
      "saving traces\n",
      "out.mat\n",
      "\n"
     ]
    }
   ],
   "source": [
    "train_log=\"/Users/emilio-imt/Desktop/sima-andrea/second_submission/data/sldpn-reproducibility/experiments/2-splitlogs/Road_Traffic_Fine_Management_Process.xes.gz0.xes.gz\"\n",
    "noisy_pattern_add=\"Road_Traffic_Fine_Management_Process.xes.gz0/Road_Traffic_Fine_Management_Process.xes.gz0_noisy_{n}.0pct.xes.gz\"\n",
    "noisy_pattern_rem=\"Road_Traffic_Fine_Management_Process.xes.gz0/Road_Traffic_Fine_Management_Process.xes.gz0_noisy_rem_{n}.0pct.xes.gz\"\n",
    "\n",
    "\n",
    "noisyAddRes=reproduceNoisyExp(train_log=train_log,noisy_pattern=noisy_pattern_add)\n",
    "noisyRemRes=reproduceNoisyExp(train_log=train_log,noisy_pattern=noisy_pattern_rem)"
   ]
  },
  {
   "cell_type": "code",
   "execution_count": 34,
   "id": "6f89fceb-e82c-4e5b-bf87-36fc46afdc00",
   "metadata": {},
   "outputs": [
    {
     "name": "stdout",
     "output_type": "stream",
     "text": [
      "\\begin{tabular}{cc}\n",
      "\\toprule\n",
      "\\%Noise & uEMSC \\\\\n",
      "\\midrule\n",
      "5 & 0.949 \\\\\n",
      "10 & 0.901 \\\\\n",
      "15 & 0.854 \\\\\n",
      "20 & 0.805 \\\\\n",
      "25 & 0.757 \\\\\n",
      "30 & 0.710 \\\\\n",
      "35 & 0.662 \\\\\n",
      "40 & 0.614 \\\\\n",
      "\\bottomrule\n",
      "\\end{tabular}\n",
      "\n"
     ]
    }
   ],
   "source": [
    "print(noisyres_to_latex_table(noisyRemRes))"
   ]
  },
  {
   "cell_type": "code",
   "execution_count": null,
   "id": "7d1926f4-4210-4962-a7d8-e583b6df9e8e",
   "metadata": {},
   "outputs": [],
   "source": []
  }
 ],
 "metadata": {
  "kernelspec": {
   "display_name": "Python 3 (ipykernel)",
   "language": "python",
   "name": "python3"
  },
  "language_info": {
   "codemirror_mode": {
    "name": "ipython",
    "version": 3
   },
   "file_extension": ".py",
   "mimetype": "text/x-python",
   "name": "python",
   "nbconvert_exporter": "python",
   "pygments_lexer": "ipython3",
   "version": "3.13.2"
  }
 },
 "nbformat": 4,
 "nbformat_minor": 5
}
